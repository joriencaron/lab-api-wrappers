{
 "cells": [
  {
   "cell_type": "code",
   "execution_count": 1,
   "id": "41486a22",
   "metadata": {},
   "outputs": [
    {
     "name": "stdout",
     "output_type": "stream",
     "text": [
      "········\n",
      "········\n"
     ]
    }
   ],
   "source": [
    "import requests\n",
    "import getpass\n",
    "cid = getpass.getpass()\n",
    "secret_id = getpass.getpass()\n"
   ]
  },
  {
   "cell_type": "markdown",
   "id": "9c4794fa",
   "metadata": {},
   "source": [
    "## Playlists"
   ]
  },
  {
   "cell_type": "code",
   "execution_count": 8,
   "id": "ed559b00",
   "metadata": {},
   "outputs": [],
   "source": [
    "from time import sleep\n",
    "from random import randint\n",
    "\n",
    "playlists = {'top2000':'37i9dQZF1DWTmvXBN4DgpA','All 80s':'1y2WMKnxWDualAaqRgHOXf','All 90s':'37i9dQZF1DXbTxeAdrVG2l','rock top 500':'06ye9lYBlxKIAiueSO7BVy','2000-2021':'5rA2OHJUxeIqwRVrVZ2Wa0','country':'37i9dQZF1DWZBCPUIUs2iR','dance':'06S64oWn7uGnfGrwjh5IWb','All 00s':'0098gmqDhZTMCeGxXUBghm','most popular':'4o8NBsWreC3OnKePUYw0dg','Dutch hits':'78ZjgERKMglgYbqgJQZUFP'}\n",
    "    \n",
    "def all_tracks_playlist(id):\n",
    "    results = sp.user_playlist_tracks(\"Spotify\",id)\n",
    "    tracks = results['items']\n",
    "    while results['next'] != None:\n",
    "        results = sp.next(results)\n",
    "        tracks = tracks + results['items']\n",
    "        sleep(randint(1,2))\n",
    "    return tracks\n",
    "\n",
    "playlists_full =[]\n",
    "\n",
    "for key in playlists.keys():\n",
    "    playlists_full= playlists_full + (all_tracks_playlist(playlists[key]))"
   ]
  },
  {
   "cell_type": "code",
   "execution_count": 9,
   "id": "2d1a9239",
   "metadata": {},
   "outputs": [
    {
     "data": {
      "text/plain": [
       "8989"
      ]
     },
     "execution_count": 9,
     "metadata": {},
     "output_type": "execute_result"
    }
   ],
   "source": [
    "len(playlists_full)"
   ]
  },
  {
   "cell_type": "code",
   "execution_count": 10,
   "id": "f65c0929",
   "metadata": {},
   "outputs": [],
   "source": [
    "songs = [playlists_full[i]['track']['name'] for i in range(len(playlists_full))]"
   ]
  },
  {
   "cell_type": "code",
   "execution_count": null,
   "id": "7ea277f3",
   "metadata": {},
   "outputs": [],
   "source": [
    "#songs"
   ]
  },
  {
   "cell_type": "code",
   "execution_count": 12,
   "id": "11baa44b",
   "metadata": {},
   "outputs": [],
   "source": [
    "artist = [playlists_full[i]['track']['artists'][0]['name'] for i in range(len(playlists_full))]"
   ]
  },
  {
   "cell_type": "code",
   "execution_count": 13,
   "id": "f52af943",
   "metadata": {},
   "outputs": [],
   "source": [
    "song_uri = [playlists_full[i][\"track\"][\"uri\"] for i in range(len(playlists_full))]"
   ]
  },
  {
   "cell_type": "code",
   "execution_count": 14,
   "id": "2a02817b",
   "metadata": {},
   "outputs": [],
   "source": [
    "song_features = [sp.audio_features(i) for i in song_uri]"
   ]
  },
  {
   "cell_type": "code",
   "execution_count": 16,
   "id": "c3f6f4c3",
   "metadata": {},
   "outputs": [],
   "source": [
    "import pandas as pd\n",
    "song_features_df = pd.DataFrame(song_features)"
   ]
  },
  {
   "cell_type": "code",
   "execution_count": 17,
   "id": "56ce552f",
   "metadata": {},
   "outputs": [],
   "source": [
    "song_features_df = song_features_df.rename(columns= {0:'features'})"
   ]
  },
  {
   "cell_type": "code",
   "execution_count": 19,
   "id": "43cce881",
   "metadata": {},
   "outputs": [
    {
     "data": {
      "text/plain": [
       "0       {'danceability': 0.4, 'energy': 0.383, 'key': ...\n",
       "1       {'danceability': 0.414, 'energy': 0.404, 'key'...\n",
       "2       {'danceability': 0.579, 'energy': 0.508, 'key'...\n",
       "3       {'danceability': 0.334, 'energy': 0.472, 'key'...\n",
       "4       {'danceability': 0.338, 'energy': 0.34, 'key':...\n",
       "                              ...                        \n",
       "8984    {'danceability': 0.696, 'energy': 0.727, 'key'...\n",
       "8985    {'danceability': 0.479, 'energy': 0.757, 'key'...\n",
       "8986    {'danceability': 0.728, 'energy': 0.741, 'key'...\n",
       "8987    {'danceability': 0.827, 'energy': 0.926, 'key'...\n",
       "8988    {'danceability': 0.7, 'energy': 0.96, 'key': 4...\n",
       "Name: features, Length: 8989, dtype: object"
      ]
     },
     "execution_count": 19,
     "metadata": {},
     "output_type": "execute_result"
    }
   ],
   "source": [
    "song_features_df['features']"
   ]
  },
  {
   "cell_type": "code",
   "execution_count": 20,
   "id": "dbb289e8",
   "metadata": {},
   "outputs": [],
   "source": [
    "danceability = [song_features_df['features'][i]['danceability'] for i in range(len(song_features_df))]\n",
    "energy = [song_features_df['features'][i]['energy'] for i in range(len(song_features_df))]\n",
    "key = [song_features_df['features'][i]['key'] for i in range(len(song_features_df))]\n",
    "loudness = [song_features_df['features'][i]['loudness'] for i in range(len(song_features_df))]\n",
    "mode = [song_features_df['features'][i]['mode'] for i in range(len(song_features_df))]\n",
    "speechiness = [song_features_df['features'][i]['speechiness'] for i in range(len(song_features_df))]\n",
    "acousticness = [song_features_df['features'][i]['acousticness'] for i in range(len(song_features_df))]\n",
    "instrumentalness = [song_features_df['features'][i]['instrumentalness'] for i in range(len(song_features_df))]\n",
    "liveness = [song_features_df['features'][i]['liveness'] for i in range(len(song_features_df))]\n",
    "valence = [song_features_df['features'][i]['valence'] for i in range(len(song_features_df))]\n",
    "tempo = [song_features_df['features'][i]['tempo'] for i in range(len(song_features_df))]\n",
    "uri = [song_features_df['features'][i]['id'] for i in range(len(song_features_df))]"
   ]
  },
  {
   "cell_type": "code",
   "execution_count": 21,
   "id": "ccbafadb",
   "metadata": {},
   "outputs": [],
   "source": [
    "df_song_feature = pd.DataFrame({'song_title':songs,'artists':artist,'uri':uri,'danceability':danceability,'energy':energy,'key':key,'loudness':loudness,'mode':mode,'speechiness':speechiness,'acousticness':acousticness,'instrumentalness':instrumentalness,'liveness':liveness,'valence':valence,'tempo':tempo})"
   ]
  },
  {
   "cell_type": "code",
   "execution_count": 22,
   "id": "a967d442",
   "metadata": {},
   "outputs": [
    {
     "data": {
      "text/html": [
       "<div>\n",
       "<style scoped>\n",
       "    .dataframe tbody tr th:only-of-type {\n",
       "        vertical-align: middle;\n",
       "    }\n",
       "\n",
       "    .dataframe tbody tr th {\n",
       "        vertical-align: top;\n",
       "    }\n",
       "\n",
       "    .dataframe thead th {\n",
       "        text-align: right;\n",
       "    }\n",
       "</style>\n",
       "<table border=\"1\" class=\"dataframe\">\n",
       "  <thead>\n",
       "    <tr style=\"text-align: right;\">\n",
       "      <th></th>\n",
       "      <th>song_title</th>\n",
       "      <th>artists</th>\n",
       "      <th>uri</th>\n",
       "      <th>danceability</th>\n",
       "      <th>energy</th>\n",
       "      <th>key</th>\n",
       "      <th>loudness</th>\n",
       "      <th>mode</th>\n",
       "      <th>speechiness</th>\n",
       "      <th>acousticness</th>\n",
       "      <th>instrumentalness</th>\n",
       "      <th>liveness</th>\n",
       "      <th>valence</th>\n",
       "      <th>tempo</th>\n",
       "    </tr>\n",
       "  </thead>\n",
       "  <tbody>\n",
       "    <tr>\n",
       "      <th>0</th>\n",
       "      <td>Roller Coaster</td>\n",
       "      <td>Danny Vera</td>\n",
       "      <td>7rO7Pc5dkC2EIW1OKsCJtQ</td>\n",
       "      <td>0.400</td>\n",
       "      <td>0.383</td>\n",
       "      <td>9</td>\n",
       "      <td>-10.048</td>\n",
       "      <td>1</td>\n",
       "      <td>0.0279</td>\n",
       "      <td>0.51000</td>\n",
       "      <td>0.007630</td>\n",
       "      <td>0.1210</td>\n",
       "      <td>0.285</td>\n",
       "      <td>96.944</td>\n",
       "    </tr>\n",
       "    <tr>\n",
       "      <th>1</th>\n",
       "      <td>Bohemian Rhapsody - Remastered 2011</td>\n",
       "      <td>Queen</td>\n",
       "      <td>4u7EnebtmKWzUH433cf5Qv</td>\n",
       "      <td>0.414</td>\n",
       "      <td>0.404</td>\n",
       "      <td>0</td>\n",
       "      <td>-9.928</td>\n",
       "      <td>0</td>\n",
       "      <td>0.0499</td>\n",
       "      <td>0.27100</td>\n",
       "      <td>0.000000</td>\n",
       "      <td>0.3000</td>\n",
       "      <td>0.224</td>\n",
       "      <td>71.105</td>\n",
       "    </tr>\n",
       "    <tr>\n",
       "      <th>2</th>\n",
       "      <td>Hotel California - 2013 Remaster</td>\n",
       "      <td>Eagles</td>\n",
       "      <td>40riOy7x9W7GXjyGp4pjAv</td>\n",
       "      <td>0.579</td>\n",
       "      <td>0.508</td>\n",
       "      <td>2</td>\n",
       "      <td>-9.484</td>\n",
       "      <td>1</td>\n",
       "      <td>0.0270</td>\n",
       "      <td>0.00574</td>\n",
       "      <td>0.000494</td>\n",
       "      <td>0.0575</td>\n",
       "      <td>0.609</td>\n",
       "      <td>147.125</td>\n",
       "    </tr>\n",
       "    <tr>\n",
       "      <th>3</th>\n",
       "      <td>Piano Man</td>\n",
       "      <td>Billy Joel</td>\n",
       "      <td>3FCto7hnn1shUyZL42YgfO</td>\n",
       "      <td>0.334</td>\n",
       "      <td>0.472</td>\n",
       "      <td>0</td>\n",
       "      <td>-8.792</td>\n",
       "      <td>1</td>\n",
       "      <td>0.0277</td>\n",
       "      <td>0.60000</td>\n",
       "      <td>0.000004</td>\n",
       "      <td>0.3170</td>\n",
       "      <td>0.431</td>\n",
       "      <td>179.167</td>\n",
       "    </tr>\n",
       "    <tr>\n",
       "      <th>4</th>\n",
       "      <td>Stairway to Heaven - Remaster</td>\n",
       "      <td>Led Zeppelin</td>\n",
       "      <td>5CQ30WqJwcep0pYcV4AMNc</td>\n",
       "      <td>0.338</td>\n",
       "      <td>0.340</td>\n",
       "      <td>9</td>\n",
       "      <td>-12.049</td>\n",
       "      <td>0</td>\n",
       "      <td>0.0339</td>\n",
       "      <td>0.58000</td>\n",
       "      <td>0.003200</td>\n",
       "      <td>0.1160</td>\n",
       "      <td>0.197</td>\n",
       "      <td>82.433</td>\n",
       "    </tr>\n",
       "  </tbody>\n",
       "</table>\n",
       "</div>"
      ],
      "text/plain": [
       "                            song_title       artists                     uri  \\\n",
       "0                       Roller Coaster    Danny Vera  7rO7Pc5dkC2EIW1OKsCJtQ   \n",
       "1  Bohemian Rhapsody - Remastered 2011         Queen  4u7EnebtmKWzUH433cf5Qv   \n",
       "2     Hotel California - 2013 Remaster        Eagles  40riOy7x9W7GXjyGp4pjAv   \n",
       "3                            Piano Man    Billy Joel  3FCto7hnn1shUyZL42YgfO   \n",
       "4        Stairway to Heaven - Remaster  Led Zeppelin  5CQ30WqJwcep0pYcV4AMNc   \n",
       "\n",
       "   danceability  energy  key  loudness  mode  speechiness  acousticness  \\\n",
       "0         0.400   0.383    9   -10.048     1       0.0279       0.51000   \n",
       "1         0.414   0.404    0    -9.928     0       0.0499       0.27100   \n",
       "2         0.579   0.508    2    -9.484     1       0.0270       0.00574   \n",
       "3         0.334   0.472    0    -8.792     1       0.0277       0.60000   \n",
       "4         0.338   0.340    9   -12.049     0       0.0339       0.58000   \n",
       "\n",
       "   instrumentalness  liveness  valence    tempo  \n",
       "0          0.007630    0.1210    0.285   96.944  \n",
       "1          0.000000    0.3000    0.224   71.105  \n",
       "2          0.000494    0.0575    0.609  147.125  \n",
       "3          0.000004    0.3170    0.431  179.167  \n",
       "4          0.003200    0.1160    0.197   82.433  "
      ]
     },
     "execution_count": 22,
     "metadata": {},
     "output_type": "execute_result"
    }
   ],
   "source": [
    "df_song_feature.head()"
   ]
  },
  {
   "cell_type": "code",
   "execution_count": 23,
   "id": "03339e8d",
   "metadata": {},
   "outputs": [],
   "source": [
    "df_song_feature.to_csv('spotify_features.csv')"
   ]
  },
  {
   "cell_type": "code",
   "execution_count": null,
   "id": "ed42fdd9",
   "metadata": {},
   "outputs": [],
   "source": []
  }
 ],
 "metadata": {
  "kernelspec": {
   "display_name": "Python 3",
   "language": "python",
   "name": "python3"
  },
  "language_info": {
   "codemirror_mode": {
    "name": "ipython",
    "version": 3
   },
   "file_extension": ".py",
   "mimetype": "text/x-python",
   "name": "python",
   "nbconvert_exporter": "python",
   "pygments_lexer": "ipython3",
   "version": "3.8.8"
  }
 },
 "nbformat": 4,
 "nbformat_minor": 5
}
